{
 "cells": [
  {
   "cell_type": "code",
   "execution_count": 1,
   "id": "19f0ba5d-dbfd-404c-a90b-33747ed8da52",
   "metadata": {},
   "outputs": [
    {
     "name": "stderr",
     "output_type": "stream",
     "text": [
      "/home/ubuntu/jupyterLab/my_env/lib/python3.8/site-packages/tqdm/auto.py:22: TqdmWarning: IProgress not found. Please update jupyter and ipywidgets. See https://ipywidgets.readthedocs.io/en/stable/user_install.html\n",
      "  from .autonotebook import tqdm as notebook_tqdm\n"
     ]
    }
   ],
   "source": [
    "import torch\n",
    "import os\n",
    "from torchvision import datasets, transforms\n",
    "from task2 import trainer\n",
    "from image_utils import create_synthetic_images"
   ]
  },
  {
   "cell_type": "code",
   "execution_count": 2,
   "id": "b94d2143-fd6b-4a45-b390-9c2a787c3cd2",
   "metadata": {},
   "outputs": [],
   "source": [
    "#create_synthetic_images()"
   ]
  },
  {
   "cell_type": "code",
   "execution_count": 3,
   "id": "e8c61acf-80c1-4d0e-ad4a-67f2770cb8c0",
   "metadata": {},
   "outputs": [
    {
     "name": "stdout",
     "output_type": "stream",
     "text": [
      "35 /home/ubuntu/jupyterLab/TaskML\n",
      "*************** Model Training Started ************** \n",
      "Epoch: 1, Train Loss: 0.6888, Val Loss: 0.671, Train Accuracy: 0.5809000134468079, Val Accuracy: 0.642799973487854\n",
      "Epoch: 2, Train Loss: 0.6344, Val Loss: 0.5984, Train Accuracy: 0.635699987411499, Val Accuracy: 0.7853000164031982\n",
      "Epoch: 3, Train Loss: 0.5979, Val Loss: 0.5566, Train Accuracy: 0.6787999868392944, Val Accuracy: 0.8357999920845032\n",
      "Epoch: 4, Train Loss: 0.5691, Val Loss: 0.523, Train Accuracy: 0.7111999988555908, Val Accuracy: 0.8748999834060669\n",
      "Epoch: 5, Train Loss: 0.5427, Val Loss: 0.4937, Train Accuracy: 0.7409999966621399, Val Accuracy: 0.8991000056266785\n",
      "Epoch: 6, Train Loss: 0.5204, Val Loss: 0.4694, Train Accuracy: 0.7630000114440918, Val Accuracy: 0.9158999919891357\n",
      "Epoch: 7, Train Loss: 0.5019, Val Loss: 0.4469, Train Accuracy: 0.7799000144004822, Val Accuracy: 0.9279999732971191\n",
      "Epoch: 8, Train Loss: 0.484, Val Loss: 0.4283, Train Accuracy: 0.7962999939918518, Val Accuracy: 0.9369999766349792\n",
      "Epoch: 9, Train Loss: 0.4672, Val Loss: 0.4103, Train Accuracy: 0.8100000023841858, Val Accuracy: 0.9440000057220459\n",
      "Epoch: 10, Train Loss: 0.4523, Val Loss: 0.3937, Train Accuracy: 0.8216000199317932, Val Accuracy: 0.9495999813079834\n",
      "Epoch: 11, Train Loss: 0.4387, Val Loss: 0.3784, Train Accuracy: 0.8317999839782715, Val Accuracy: 0.954200029373169\n",
      "Epoch: 12, Train Loss: 0.4259, Val Loss: 0.3636, Train Accuracy: 0.8406000137329102, Val Accuracy: 0.9580000042915344\n",
      "Epoch: 13, Train Loss: 0.4143, Val Loss: 0.3503, Train Accuracy: 0.8483999967575073, Val Accuracy: 0.9611999988555908\n",
      "Epoch: 14, Train Loss: 0.4029, Val Loss: 0.3375, Train Accuracy: 0.8560000061988831, Val Accuracy: 0.9639999866485596\n",
      "Epoch: 15, Train Loss: 0.3922, Val Loss: 0.3256, Train Accuracy: 0.8629000186920166, Val Accuracy: 0.9664000272750854\n",
      "Epoch: 16, Train Loss: 0.3818, Val Loss: 0.3146, Train Accuracy: 0.8690999746322632, Val Accuracy: 0.968500018119812\n",
      "Epoch: 17, Train Loss: 0.3725, Val Loss: 0.3042, Train Accuracy: 0.8744999766349792, Val Accuracy: 0.970300018787384\n",
      "Epoch: 18, Train Loss: 0.3641, Val Loss: 0.2943, Train Accuracy: 0.8792999982833862, Val Accuracy: 0.972000002861023\n",
      "Epoch: 19, Train Loss: 0.3555, Val Loss: 0.2854, Train Accuracy: 0.8840000033378601, Val Accuracy: 0.9735000133514404\n",
      "Epoch: 20, Train Loss: 0.3478, Val Loss: 0.2765, Train Accuracy: 0.8878999948501587, Val Accuracy: 0.9747999906539917\n",
      "*************** Model Training Finished ************** \n",
      "*************** Testing Model on the Test Data ************** \n",
      "Report on BATCH:  1\n",
      "Accuracy : 0.2, Recall : 0.11764705882352941, F1 Score : 0.2\n",
      "************************* Confusion Matrix ***********************\n",
      "[[ 2  1]\n",
      " [15  2]]\n",
      "Report on BATCH:  2\n",
      "Accuracy : 0.9333333333333333, Recall : 1.0, F1 Score : 0.9655172413793104\n",
      "************************* Confusion Matrix ***********************\n",
      "[[ 0  1]\n",
      " [ 0 14]]\n"
     ]
    }
   ],
   "source": [
    "trainer(20)"
   ]
  },
  {
   "cell_type": "code",
   "execution_count": 4,
   "id": "300a01a6-ef30-4439-a8fe-695eabc38469",
   "metadata": {},
   "outputs": [
    {
     "name": "stdout",
     "output_type": "stream",
     "text": [
      "{'Flats': 0, 'Heels': 1}\n"
     ]
    }
   ],
   "source": [
    "train = datasets.ImageFolder(os.getcwd() + '/SyntheticImages/train/',\n",
    "               transform=transforms.Compose([transforms.Grayscale(), transforms.ToTensor()]))\n",
    "    \n",
    "print(train.class_to_idx)\n"
   ]
  },
  {
   "cell_type": "code",
   "execution_count": null,
   "id": "cd533810-af76-45ea-a420-b09260de895b",
   "metadata": {},
   "outputs": [],
   "source": []
  }
 ],
 "metadata": {
  "kernelspec": {
   "display_name": "Python 3 (ipykernel)",
   "language": "python",
   "name": "python3"
  },
  "language_info": {
   "codemirror_mode": {
    "name": "ipython",
    "version": 3
   },
   "file_extension": ".py",
   "mimetype": "text/x-python",
   "name": "python",
   "nbconvert_exporter": "python",
   "pygments_lexer": "ipython3",
   "version": "3.8.10"
  }
 },
 "nbformat": 4,
 "nbformat_minor": 5
}
