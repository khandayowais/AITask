{
 "cells": [
  {
   "cell_type": "markdown",
   "id": "418f0906-6362-4559-97f2-8e8a80095fd9",
   "metadata": {},
   "source": [
    "you can run the main.py file with no arguments and it will train start training the model but you must have the Data files in the Data directory\n",
    "python main.py\n",
    "\n"
   ]
  },
  {
   "cell_type": "code",
   "execution_count": 1,
   "id": "a7e3ad7a-7d51-4587-9afc-56f95e024355",
   "metadata": {},
   "outputs": [
    {
     "name": "stderr",
     "output_type": "stream",
     "text": [
      "/home/ubuntu/jupyterLab/my_env/lib/python3.8/site-packages/tqdm/auto.py:22: TqdmWarning: IProgress not found. Please update jupyter and ipywidgets. See https://ipywidgets.readthedocs.io/en/stable/user_install.html\n",
      "  from .autonotebook import tqdm as notebook_tqdm\n"
     ]
    }
   ],
   "source": [
    "import os\n",
    "from train import trainer\n",
    "from evaluation import evaluate"
   ]
  },
  {
   "cell_type": "code",
   "execution_count": 2,
   "id": "53489f10-7f33-40d7-bbf9-ef6c3acdabb4",
   "metadata": {},
   "outputs": [],
   "source": [
    "DATA_DIR = os.getcwd()+'/Data/'\n",
    "MODEL_PATH = os.getcwd()+'/PretrainedModel/modelv1.pth'\n",
    "BATCH_SIZE = 10000"
   ]
  },
  {
   "cell_type": "code",
   "execution_count": 6,
   "id": "7913c99d-a1af-4c50-be35-958c2935010d",
   "metadata": {},
   "outputs": [
    {
     "name": "stdout",
     "output_type": "stream",
     "text": [
      "*************** Loading Test DataLoader ************** \n",
      "*************** Loading Validation DataLoader ************** \n",
      "*************** Loading Test DataLoader ************** \n",
      "*************** Model Training Started ************** \n",
      "Epoch: 1, Train Loss: 0.2331, Val Loss: 0.0587, Train Accuracy: 0.8909000158309937, Val Accuracy: 0.9805999994277954\n",
      "Epoch: 2, Train Loss: 0.1297, Val Loss: 0.037, Train Accuracy: 0.9413999915122986, Val Accuracy: 0.9876000285148621\n",
      "Epoch: 3, Train Loss: 0.0913, Val Loss: 0.0275, Train Accuracy: 0.9595999717712402, Val Accuracy: 0.9905999898910522\n",
      "Epoch: 4, Train Loss: 0.0712, Val Loss: 0.0223, Train Accuracy: 0.9688000082969666, Val Accuracy: 0.9922999739646912\n",
      "Epoch: 5, Train Loss: 0.0587, Val Loss: 0.0188, Train Accuracy: 0.9746000170707703, Val Accuracy: 0.9936000108718872\n",
      "*************** Model Training Finished ************** \n",
      "*************** Testing Model on the Test Data ************** \n",
      "Report on BATCH:  1\n",
      "Accuracy : 0.998046875, Recall : 0.9957734573119188, F1 Score : 0.9966159052453468\n",
      "************************* Confusion Matrix ***********************\n",
      "[[2910    3]\n",
      " [   5 1178]]\n",
      "Report on BATCH:  2\n",
      "Accuracy : 0.99853515625, Recall : 0.9976653696498055, F1 Score : 0.9976653696498055\n",
      "************************* Confusion Matrix ***********************\n",
      "[[2808    3]\n",
      " [   3 1282]]\n",
      "Report on BATCH:  3\n",
      "Accuracy : 0.9983407079646017, Recall : 0.994413407821229, F1 Score : 0.9971988795518207\n",
      "************************* Confusion Matrix ***********************\n",
      "[[1271    0]\n",
      " [   3  534]]\n",
      "*************** Saving the Trained Model ************** \n",
      "*************** Model Saved Sucessfully ************** \n"
     ]
    }
   ],
   "source": [
    "trainer(PATH=DATA_DIR, EPOCHS=5, BATCH_SIZE=512)"
   ]
  },
  {
   "cell_type": "code",
   "execution_count": 4,
   "id": "2eeb512b-1b5f-4967-836a-86fac7b453ae",
   "metadata": {},
   "outputs": [
    {
     "data": {
      "text/plain": [
       "'/home/ubuntu/jupyterLab/TaskML/PretrainedModel/modelv1.pth'"
      ]
     },
     "execution_count": 4,
     "metadata": {},
     "output_type": "execute_result"
    }
   ],
   "source": [
    "MODEL_PATH"
   ]
  },
  {
   "cell_type": "code",
   "execution_count": 7,
   "id": "7784bea0-f83c-4d88-9106-986ba6ba5f9b",
   "metadata": {},
   "outputs": [
    {
     "name": "stdout",
     "output_type": "stream",
     "text": [
      "*************** Loading Test DataLoader ************** \n",
      "****************** Pretrained Model Loaded Sucessfully ******************\n",
      "*************** Report on BATCH 1 **************** \n",
      "Accuracy : 0.9983, Recall : 0.9963394342762063, F1 Score : 0.9971690258118235\n",
      "************************* Confusion Matrix ***********************\n",
      "[[6989    6]\n",
      " [  11 2994]]\n"
     ]
    }
   ],
   "source": [
    "evaluate(MODEL_PATH=MODEL_PATH, DATA_DIR=DATA_DIR, BATCH_SIZE=BATCH_SIZE)"
   ]
  },
  {
   "cell_type": "code",
   "execution_count": null,
   "id": "b98ee295-3bb4-4ee2-ae47-dfdd2edbfa49",
   "metadata": {},
   "outputs": [],
   "source": []
  }
 ],
 "metadata": {
  "kernelspec": {
   "display_name": "Python 3 (ipykernel)",
   "language": "python",
   "name": "python3"
  },
  "language_info": {
   "codemirror_mode": {
    "name": "ipython",
    "version": 3
   },
   "file_extension": ".py",
   "mimetype": "text/x-python",
   "name": "python",
   "nbconvert_exporter": "python",
   "pygments_lexer": "ipython3",
   "version": "3.8.10"
  }
 },
 "nbformat": 4,
 "nbformat_minor": 5
}
